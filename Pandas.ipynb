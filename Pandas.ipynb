{
 "cells": [
  {
   "cell_type": "markdown",
   "metadata": {},
   "source": [
    "# Pandas basics"
   ]
  },
  {
   "cell_type": "code",
   "execution_count": 1,
   "metadata": {},
   "outputs": [],
   "source": [
    "import pandas as pd"
   ]
  },
  {
   "cell_type": "code",
   "execution_count": 2,
   "metadata": {},
   "outputs": [],
   "source": [
    "import numpy as np"
   ]
  },
  {
   "cell_type": "code",
   "execution_count": 3,
   "metadata": {},
   "outputs": [
    {
     "name": "stdout",
     "output_type": "stream",
     "text": [
      "0    a\n",
      "1    b\n",
      "2    c\n",
      "3    d\n",
      "4    e\n",
      "5    f\n",
      "dtype: object\n"
     ]
    }
   ],
   "source": [
    "list = ['a','b','c','d','e','f']\n",
    "s = pd.Series(list)\n",
    "print(s)"
   ]
  },
  {
   "cell_type": "code",
   "execution_count": 4,
   "metadata": {},
   "outputs": [
    {
     "name": "stdout",
     "output_type": "stream",
     "text": [
      "b\n",
      "d\n"
     ]
    }
   ],
   "source": [
    "print(s[1])\n",
    "print(s[3])"
   ]
  },
  {
   "cell_type": "code",
   "execution_count": 5,
   "metadata": {},
   "outputs": [
    {
     "name": "stdout",
     "output_type": "stream",
     "text": [
      "0    a\n",
      "1    b\n",
      "2    c\n",
      "dtype: object\n"
     ]
    }
   ],
   "source": [
    "print(s[:3])"
   ]
  },
  {
   "cell_type": "code",
   "execution_count": 7,
   "metadata": {},
   "outputs": [
    {
     "data": {
      "text/plain": [
       "<bound method NDFrame.head of                 HUNDERASSE HUNDERASSENTYP_KURZ      HUNDERASSENTYP\n",
       "0            Affenpinscher                   K        Kleinwüchsig\n",
       "1                  Afghane                   I  Rassentypenliste I\n",
       "2    Afghanischer Windhund                   I  Rassentypenliste I\n",
       "3         Airedale Terrier                   I  Rassentypenliste I\n",
       "4                Akita Inu                   I  Rassentypenliste I\n",
       "..                     ...                 ...                 ...\n",
       "356             Zwergpudel                   K        Kleinwüchsig\n",
       "357     Zwergrauhaardackel                   K        Kleinwüchsig\n",
       "358         Zwergschnauzer                   K        Kleinwüchsig\n",
       "359             Zwergspitz                   K        Kleinwüchsig\n",
       "360                  lunde                 NaN                 NaN\n",
       "\n",
       "[361 rows x 3 columns]>"
      ]
     },
     "execution_count": 7,
     "metadata": {},
     "output_type": "execute_result"
    }
   ],
   "source": [
    "df = pd.read_csv('dog_owners.csv')\n",
    "df.head"
   ]
  },
  {
   "cell_type": "code",
   "execution_count": 8,
   "metadata": {},
   "outputs": [
    {
     "data": {
      "text/plain": [
       "0            Kleinwüchsig\n",
       "1      Rassentypenliste I\n",
       "2      Rassentypenliste I\n",
       "3      Rassentypenliste I\n",
       "4      Rassentypenliste I\n",
       "              ...        \n",
       "356          Kleinwüchsig\n",
       "357          Kleinwüchsig\n",
       "358          Kleinwüchsig\n",
       "359          Kleinwüchsig\n",
       "360                   NaN\n",
       "Name: HUNDERASSENTYP, Length: 361, dtype: object"
      ]
     },
     "execution_count": 8,
     "metadata": {},
     "output_type": "execute_result"
    }
   ],
   "source": [
    "df['HUNDERASSENTYP']"
   ]
  },
  {
   "cell_type": "code",
   "execution_count": 9,
   "metadata": {},
   "outputs": [],
   "source": [
    "df.dropna(inplace = True)  "
   ]
  },
  {
   "cell_type": "code",
   "execution_count": 10,
   "metadata": {},
   "outputs": [
    {
     "data": {
      "text/html": [
       "<div>\n",
       "<style scoped>\n",
       "    .dataframe tbody tr th:only-of-type {\n",
       "        vertical-align: middle;\n",
       "    }\n",
       "\n",
       "    .dataframe tbody tr th {\n",
       "        vertical-align: top;\n",
       "    }\n",
       "\n",
       "    .dataframe thead th {\n",
       "        text-align: right;\n",
       "    }\n",
       "</style>\n",
       "<table border=\"1\" class=\"dataframe\">\n",
       "  <thead>\n",
       "    <tr style=\"text-align: right;\">\n",
       "      <th></th>\n",
       "      <th>HUNDERASSE</th>\n",
       "      <th>HUNDERASSENTYP_KURZ</th>\n",
       "      <th>HUNDERASSENTYP</th>\n",
       "    </tr>\n",
       "  </thead>\n",
       "  <tbody>\n",
       "    <tr>\n",
       "      <th>0</th>\n",
       "      <td>Affenpinscher</td>\n",
       "      <td>K</td>\n",
       "      <td>Kleinwüchsig</td>\n",
       "    </tr>\n",
       "    <tr>\n",
       "      <th>1</th>\n",
       "      <td>Afghane</td>\n",
       "      <td>I</td>\n",
       "      <td>Rassentypenliste I</td>\n",
       "    </tr>\n",
       "    <tr>\n",
       "      <th>2</th>\n",
       "      <td>Afghanischer Windhund</td>\n",
       "      <td>I</td>\n",
       "      <td>Rassentypenliste I</td>\n",
       "    </tr>\n",
       "    <tr>\n",
       "      <th>3</th>\n",
       "      <td>Airedale Terrier</td>\n",
       "      <td>I</td>\n",
       "      <td>Rassentypenliste I</td>\n",
       "    </tr>\n",
       "    <tr>\n",
       "      <th>4</th>\n",
       "      <td>Akita Inu</td>\n",
       "      <td>I</td>\n",
       "      <td>Rassentypenliste I</td>\n",
       "    </tr>\n",
       "    <tr>\n",
       "      <th>...</th>\n",
       "      <td>...</td>\n",
       "      <td>...</td>\n",
       "      <td>...</td>\n",
       "    </tr>\n",
       "    <tr>\n",
       "      <th>355</th>\n",
       "      <td>Zwergpinscher</td>\n",
       "      <td>K</td>\n",
       "      <td>Kleinwüchsig</td>\n",
       "    </tr>\n",
       "    <tr>\n",
       "      <th>356</th>\n",
       "      <td>Zwergpudel</td>\n",
       "      <td>K</td>\n",
       "      <td>Kleinwüchsig</td>\n",
       "    </tr>\n",
       "    <tr>\n",
       "      <th>357</th>\n",
       "      <td>Zwergrauhaardackel</td>\n",
       "      <td>K</td>\n",
       "      <td>Kleinwüchsig</td>\n",
       "    </tr>\n",
       "    <tr>\n",
       "      <th>358</th>\n",
       "      <td>Zwergschnauzer</td>\n",
       "      <td>K</td>\n",
       "      <td>Kleinwüchsig</td>\n",
       "    </tr>\n",
       "    <tr>\n",
       "      <th>359</th>\n",
       "      <td>Zwergspitz</td>\n",
       "      <td>K</td>\n",
       "      <td>Kleinwüchsig</td>\n",
       "    </tr>\n",
       "  </tbody>\n",
       "</table>\n",
       "<p>345 rows × 3 columns</p>\n",
       "</div>"
      ],
      "text/plain": [
       "                HUNDERASSE HUNDERASSENTYP_KURZ      HUNDERASSENTYP\n",
       "0            Affenpinscher                   K        Kleinwüchsig\n",
       "1                  Afghane                   I  Rassentypenliste I\n",
       "2    Afghanischer Windhund                   I  Rassentypenliste I\n",
       "3         Airedale Terrier                   I  Rassentypenliste I\n",
       "4                Akita Inu                   I  Rassentypenliste I\n",
       "..                     ...                 ...                 ...\n",
       "355          Zwergpinscher                   K        Kleinwüchsig\n",
       "356             Zwergpudel                   K        Kleinwüchsig\n",
       "357     Zwergrauhaardackel                   K        Kleinwüchsig\n",
       "358         Zwergschnauzer                   K        Kleinwüchsig\n",
       "359             Zwergspitz                   K        Kleinwüchsig\n",
       "\n",
       "[345 rows x 3 columns]"
      ]
     },
     "execution_count": 10,
     "metadata": {},
     "output_type": "execute_result"
    }
   ],
   "source": [
    "df"
   ]
  },
  {
   "cell_type": "code",
   "execution_count": 12,
   "metadata": {},
   "outputs": [
    {
     "name": "stdout",
     "output_type": "stream",
     "text": [
      "          0\n",
      "0         I\n",
      "1        am\n",
      "2  studying\n",
      "3        in\n",
      "4    IIITDM\n",
      "5  JABALPUR\n"
     ]
    }
   ],
   "source": [
    "list = ['I', 'am', 'studying', 'in', 'IIITDM', 'JABALPUR']\n",
    "df = pd.DataFrame(list)\n",
    "print(df)"
   ]
  },
  {
   "cell_type": "code",
   "execution_count": 15,
   "metadata": {},
   "outputs": [
    {
     "name": "stdout",
     "output_type": "stream",
     "text": [
      "      Intro  Number\n",
      "0         I       1\n",
      "1        am       2\n",
      "2  studying       3\n",
      "3        in       4\n",
      "4    IIITDM       5\n",
      "5  JABALPUR       6\n"
     ]
    }
   ],
   "source": [
    "dataframe = {'Intro':['I', 'am', 'studying', 'in', 'IIITDM', 'JABALPUR'],'Number':[1,2,3,4,5,6]}\n",
    "df = pd.DataFrame(dataframe)\n",
    "print(df)"
   ]
  },
  {
   "cell_type": "code",
   "execution_count": 17,
   "metadata": {},
   "outputs": [
    {
     "name": "stdout",
     "output_type": "stream",
     "text": [
      "   Number     Intro\n",
      "0       1         I\n",
      "1       2        am\n",
      "2       3  studying\n",
      "3       4        in\n",
      "4       5    IIITDM\n",
      "5       6  JABALPUR\n"
     ]
    }
   ],
   "source": [
    "print(df[['Number', 'Intro']])"
   ]
  },
  {
   "cell_type": "code",
   "execution_count": 23,
   "metadata": {},
   "outputs": [
    {
     "data": {
      "text/plain": [
       "<bound method NDFrame.head of                       HUNDERASSENTYP_KURZ      HUNDERASSENTYP\n",
       "HUNDERASSE                                                   \n",
       "Affenpinscher                           K        Kleinwüchsig\n",
       "Afghane                                 I  Rassentypenliste I\n",
       "Afghanischer Windhund                   I  Rassentypenliste I\n",
       "Airedale Terrier                        I  Rassentypenliste I\n",
       "Akita Inu                               I  Rassentypenliste I\n",
       "...                                   ...                 ...\n",
       "Zwergpudel                              K        Kleinwüchsig\n",
       "Zwergrauhaardackel                      K        Kleinwüchsig\n",
       "Zwergschnauzer                          K        Kleinwüchsig\n",
       "Zwergspitz                              K        Kleinwüchsig\n",
       "lunde                                 NaN                 NaN\n",
       "\n",
       "[361 rows x 2 columns]>"
      ]
     },
     "execution_count": 23,
     "metadata": {},
     "output_type": "execute_result"
    }
   ],
   "source": [
    "df = pd.read_csv('dog_owners.csv',index_col = 'HUNDERASSE')\n",
    "df.head"
   ]
  },
  {
   "cell_type": "code",
   "execution_count": 25,
   "metadata": {},
   "outputs": [],
   "source": [
    "d1 = df.loc['Afghanischer Windhund']"
   ]
  },
  {
   "cell_type": "code",
   "execution_count": 26,
   "metadata": {},
   "outputs": [],
   "source": [
    "d2 = df.iloc[4]"
   ]
  },
  {
   "cell_type": "code",
   "execution_count": 27,
   "metadata": {},
   "outputs": [
    {
     "name": "stdout",
     "output_type": "stream",
     "text": [
      "HUNDERASSENTYP_KURZ                     I\n",
      "HUNDERASSENTYP         Rassentypenliste I\n",
      "Name: Afghanischer Windhund, dtype: object\n",
      "HUNDERASSENTYP_KURZ                     I\n",
      "HUNDERASSENTYP         Rassentypenliste I\n",
      "Name: Akita Inu, dtype: object\n"
     ]
    }
   ],
   "source": [
    "print(d1)\n",
    "print(d2)"
   ]
  },
  {
   "cell_type": "code",
   "execution_count": 28,
   "metadata": {},
   "outputs": [
    {
     "name": "stdout",
     "output_type": "stream",
     "text": [
      "                      HUNDERASSENTYP_KURZ      HUNDERASSENTYP\n",
      "HUNDERASSE                                                   \n",
      "Affenpinscher                           K        Kleinwüchsig\n",
      "Afghane                                 I  Rassentypenliste I\n",
      "Afghanischer Windhund                   I  Rassentypenliste I\n",
      "Airedale Terrier                        I  Rassentypenliste I\n",
      "Akita Inu                               I  Rassentypenliste I\n",
      "...                                   ...                 ...\n",
      "Zwergpudel                              K        Kleinwüchsig\n",
      "Zwergrauhaardackel                      K        Kleinwüchsig\n",
      "Zwergschnauzer                          K        Kleinwüchsig\n",
      "Zwergspitz                              K        Kleinwüchsig\n",
      "lunde                                 NaN                 NaN\n",
      "\n",
      "[361 rows x 2 columns]\n"
     ]
    }
   ],
   "source": [
    "df.fillna(0)\n",
    "print(df)"
   ]
  }
 ],
 "metadata": {
  "kernelspec": {
   "display_name": "Python 3",
   "language": "python",
   "name": "python3"
  },
  "language_info": {
   "codemirror_mode": {
    "name": "ipython",
    "version": 3
   },
   "file_extension": ".py",
   "mimetype": "text/x-python",
   "name": "python",
   "nbconvert_exporter": "python",
   "pygments_lexer": "ipython3",
   "version": "3.8.3"
  }
 },
 "nbformat": 4,
 "nbformat_minor": 4
}
